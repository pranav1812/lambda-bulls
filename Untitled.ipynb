{
 "cells": [
  {
   "cell_type": "code",
   "execution_count": 3,
   "id": "basic-television",
   "metadata": {},
   "outputs": [
    {
     "name": "stdout",
     "output_type": "stream",
     "text": [
      "done\n"
     ]
    }
   ],
   "source": [
    "try:\n",
    "    from smartapi.smartConnect import SmartConnect\n",
    "except:\n",
    "    print(\"error\")\n",
    "    from smartapi.smartConnect import SmartConnect\n",
    "\n",
    "print(\"done\")"
   ]
  },
  {
   "cell_type": "code",
   "execution_count": 4,
   "id": "liable-shower",
   "metadata": {},
   "outputs": [
    {
     "name": "stdout",
     "output_type": "stream",
     "text": [
      "done\n"
     ]
    }
   ],
   "source": [
    "try:\n",
    "    from smartapi.smartConnect import SmartConnect\n",
    "except:\n",
    "    print(\"error\")\n",
    "    from smartapi.smartConnect import SmartConnect\n",
    "\n",
    "print(\"done\")"
   ]
  }
 ],
 "metadata": {
  "kernelspec": {
   "display_name": "Python 3",
   "language": "python",
   "name": "python3"
  },
  "language_info": {
   "codemirror_mode": {
    "name": "ipython",
    "version": 3
   },
   "file_extension": ".py",
   "mimetype": "text/x-python",
   "name": "python",
   "nbconvert_exporter": "python",
   "pygments_lexer": "ipython3",
   "version": "3.7.9"
  }
 },
 "nbformat": 4,
 "nbformat_minor": 5
}
